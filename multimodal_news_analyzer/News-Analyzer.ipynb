{
 "cells": [
  {
   "cell_type": "markdown",
   "id": "123bf4e3-f225-4dd9-a7a1-e355670cc58e",
   "metadata": {},
   "source": [
    "## Multi Modal News Analyzer"
   ]
  },
  {
   "cell_type": "markdown",
   "id": "f3268c0a-2662-45fd-b647-985b4fea7ef4",
   "metadata": {},
   "source": [
    "### Part 1\n",
    "#### Data Collection and Preparation\n",
    "- Text Cleaning\n",
    "- Tokenization\n",
    "- Stop Word Removal\n",
    "- Lemmatization"
   ]
  },
  {
   "cell_type": "code",
   "execution_count": 4,
   "id": "58cdab0c-cd82-4576-8482-2f6283300052",
   "metadata": {},
   "outputs": [],
   "source": [
    "import pandas as pd"
   ]
  },
  {
   "cell_type": "code",
   "execution_count": 13,
   "id": "134f6aed-63a8-4a94-a690-0ab72f83484b",
   "metadata": {},
   "outputs": [],
   "source": [
    "df=pd.read_json('data/News_Category_Dataset_v3.json', lines=True)"
   ]
  },
  {
   "cell_type": "code",
   "execution_count": 6,
   "id": "b724046c-afdb-4182-95e0-4907314bff0d",
   "metadata": {},
   "outputs": [
    {
     "name": "stdout",
     "output_type": "stream",
     "text": [
      "\n",
      " First 5 rows of the data:\n",
      "                                                link  \\\n",
      "0  https://www.huffpost.com/entry/covid-boosters-...   \n",
      "1  https://www.huffpost.com/entry/american-airlin...   \n",
      "2  https://www.huffpost.com/entry/funniest-tweets...   \n",
      "3  https://www.huffpost.com/entry/funniest-parent...   \n",
      "4  https://www.huffpost.com/entry/amy-cooper-lose...   \n",
      "\n",
      "                                            headline   category  \\\n",
      "0  Over 4 Million Americans Roll Up Sleeves For O...  U.S. NEWS   \n",
      "1  American Airlines Flyer Charged, Banned For Li...  U.S. NEWS   \n",
      "2  23 Of The Funniest Tweets About Cats And Dogs ...     COMEDY   \n",
      "3  The Funniest Tweets From Parents This Week (Se...  PARENTING   \n",
      "4  Woman Who Called Cops On Black Bird-Watcher Lo...  U.S. NEWS   \n",
      "\n",
      "                                   short_description               authors  \\\n",
      "0  Health experts said it is too early to predict...  Carla K. Johnson, AP   \n",
      "1  He was subdued by passengers and crew when he ...        Mary Papenfuss   \n",
      "2  \"Until you have a dog you don't understand wha...         Elyse Wanshel   \n",
      "3  \"Accidentally put grown-up toothpaste on my to...      Caroline Bologna   \n",
      "4  Amy Cooper accused investment firm Franklin Te...        Nina Golgowski   \n",
      "\n",
      "        date  \n",
      "0 2022-09-23  \n",
      "1 2022-09-23  \n",
      "2 2022-09-23  \n",
      "3 2022-09-23  \n",
      "4 2022-09-22  \n",
      "\n",
      " DataFrame info\n",
      "<class 'pandas.core.frame.DataFrame'>\n",
      "RangeIndex: 209527 entries, 0 to 209526\n",
      "Data columns (total 6 columns):\n",
      " #   Column             Non-Null Count   Dtype         \n",
      "---  ------             --------------   -----         \n",
      " 0   link               209527 non-null  object        \n",
      " 1   headline           209527 non-null  object        \n",
      " 2   category           209527 non-null  object        \n",
      " 3   short_description  209527 non-null  object        \n",
      " 4   authors            209527 non-null  object        \n",
      " 5   date               209527 non-null  datetime64[ns]\n",
      "dtypes: datetime64[ns](1), object(5)\n",
      "memory usage: 9.6+ MB\n",
      "None\n"
     ]
    }
   ],
   "source": [
    "print(\"\\n First 5 rows of the data:\")\n",
    "print(df.head())\n",
    "\n",
    "print(\"\\n DataFrame info\")\n",
    "print(df.info())"
   ]
  },
  {
   "cell_type": "code",
   "execution_count": 4,
   "id": "00e63582-eb88-429f-8286-58fb5527178e",
   "metadata": {},
   "outputs": [
    {
     "name": "stdout",
     "output_type": "stream",
     "text": [
      "\n",
      " Missing values per column:\n",
      "link                 0\n",
      "headline             0\n",
      "category             0\n",
      "short_description    0\n",
      "authors              0\n",
      "date                 0\n",
      "dtype: int64\n",
      "category\n",
      "POLITICS          35602\n",
      "WELLNESS          17945\n",
      "ENTERTAINMENT     17362\n",
      "TRAVEL             9900\n",
      "STYLE & BEAUTY     9814\n",
      "PARENTING          8791\n",
      "HEALTHY LIVING     6694\n",
      "QUEER VOICES       6347\n",
      "FOOD & DRINK       6340\n",
      "BUSINESS           5992\n",
      "COMEDY             5400\n",
      "SPORTS             5077\n",
      "BLACK VOICES       4583\n",
      "HOME & LIVING      4320\n",
      "PARENTS            3955\n",
      "THE WORLDPOST      3664\n",
      "WEDDINGS           3653\n",
      "WOMEN              3572\n",
      "CRIME              3562\n",
      "IMPACT             3484\n",
      "DIVORCE            3426\n",
      "WORLD NEWS         3299\n",
      "MEDIA              2944\n",
      "WEIRD NEWS         2777\n",
      "GREEN              2622\n",
      "WORLDPOST          2579\n",
      "RELIGION           2577\n",
      "STYLE              2254\n",
      "SCIENCE            2206\n",
      "TECH               2104\n",
      "TASTE              2096\n",
      "MONEY              1756\n",
      "ARTS               1509\n",
      "ENVIRONMENT        1444\n",
      "FIFTY              1401\n",
      "GOOD NEWS          1398\n",
      "U.S. NEWS          1377\n",
      "ARTS & CULTURE     1339\n",
      "COLLEGE            1144\n",
      "LATINO VOICES      1130\n",
      "CULTURE & ARTS     1074\n",
      "EDUCATION          1014\n",
      "Name: count, dtype: int64\n",
      "\n",
      " Example headlines and descriptions:\n",
      "                                                 headline  \\\n",
      "170066             What 2,000 Calories Looks Like (VIDEO)   \n",
      "203191  Barbie For President: Doll Announces Bid For W...   \n",
      "165884                           Sherbet Recipes (PHOTOS)   \n",
      "95792       WATCH: Freaky Vortex Opens Up In Flooded Lake   \n",
      "134834  Fan Catches Foul Ball With Popcorn Bucket (VIDEO)   \n",
      "\n",
      "                                        short_description      category  \n",
      "170066  What does 2,000 calories look like? The folks ...      WELLNESS  \n",
      "203191  It's official. Barbie is running for president...     PARENTING  \n",
      "165884           Pineapple with ginger being one of them.  FOOD & DRINK  \n",
      "95792                                                           SCIENCE  \n",
      "134834  A fan at PNC Park on Friday night snagged a fo...        SPORTS  \n"
     ]
    }
   ],
   "source": [
    "#Check for missing values\n",
    "\n",
    "print(\"\\n Missing values per column:\")\n",
    "print(df.isnull().sum())\n",
    "\n",
    "#Check distribution of categories\n",
    "\n",
    "print(df['category'].value_counts())\n",
    "\n",
    "print(\"\\n Example headlines and descriptions:\")\n",
    "print(df[['headline', 'short_description', 'category']].sample(5))"
   ]
  },
  {
   "cell_type": "code",
   "execution_count": 36,
   "id": "62f091a8-6ce4-4f9d-97ed-ba543e6c7db7",
   "metadata": {},
   "outputs": [],
   "source": [
    "#Function to clean the text\n",
    "import re\n",
    "from nltk.corpus import stopwords\n",
    "import string\n",
    "stop_words = set(stopwords.words('english'))\n",
    "def clean_text(text):\n",
    "    #convert to lowercase\n",
    "    text=text.lower()\n",
    "\n",
    "    #remove URLs\n",
    "    text= re.sub(r'https?:\\S*|www\\.S*','',text)\n",
    "\n",
    "    #remove punctuation and special characters\n",
    "    text=text.translate(str.maketrans('','', string.punctuation))\n",
    "\n",
    "    #remove stop words\n",
    "    words=text.split()\n",
    "    filtered_words=[word for word in words if word not in stop_words]\n",
    "    # join the words back into a string\n",
    "    text=\" \".join(filtered_words)\n",
    "\n",
    "    return text\n",
    "    "
   ]
  },
  {
   "cell_type": "code",
   "execution_count": 16,
   "id": "093de209-6733-40e1-b27c-ed976983c002",
   "metadata": {},
   "outputs": [],
   "source": [
    "df['combined_text'] = df['headline'] + \" \" + df['short_description']"
   ]
  },
  {
   "cell_type": "code",
   "execution_count": 17,
   "id": "6d148ea3-cae5-47de-a066-9cfa71c16315",
   "metadata": {},
   "outputs": [],
   "source": [
    "df['combined_text']=df['combined_text'].apply(clean_text)"
   ]
  },
  {
   "cell_type": "code",
   "execution_count": 24,
   "id": "27d080da-d40d-4cb8-ac95-a3431f661cff",
   "metadata": {},
   "outputs": [],
   "source": [
    "#function for lemmatising text with nltk\n",
    "from nltk.tokenize import word_tokenize\n",
    "from nltk.stem import WordNetLemmatizer\n",
    "\n",
    "lemmatizer = WordNetLemmatizer()\n",
    "\n",
    "def tokenize_and_lemmatize(text):\n",
    "    tokens = word_tokenize(text)\n",
    "    lemmatized_words = [lemmatizer.lemmatize(word) for word in tokens]\n",
    "    return lemmatized_words\n",
    "    \n"
   ]
  },
  {
   "cell_type": "code",
   "execution_count": 28,
   "id": "09776018-6738-46ee-9687-6f1942799dfb",
   "metadata": {},
   "outputs": [
    {
     "name": "stderr",
     "output_type": "stream",
     "text": [
      "[nltk_data] Downloading package wordnet to\n",
      "[nltk_data]     C:\\Users\\tnevi\\AppData\\Roaming\\nltk_data...\n",
      "[nltk_data]   Package wordnet is already up-to-date!\n",
      "[nltk_data] Downloading package punkt to\n",
      "[nltk_data]     C:\\Users\\tnevi\\AppData\\Roaming\\nltk_data...\n",
      "[nltk_data]   Unzipping tokenizers\\punkt.zip.\n",
      "[nltk_data] Downloading package averaged_perceptron_tagger to\n",
      "[nltk_data]     C:\\Users\\tnevi\\AppData\\Roaming\\nltk_data...\n",
      "[nltk_data]   Unzipping taggers\\averaged_perceptron_tagger.zip.\n"
     ]
    },
    {
     "data": {
      "text/plain": [
       "True"
      ]
     },
     "execution_count": 28,
     "metadata": {},
     "output_type": "execute_result"
    }
   ],
   "source": [
    "import nltk\n",
    "nltk.download('wordnet')\n",
    "nltk.download('punkt_tab')\n",
    "nltk.download('averaged_perceptron_tagger')"
   ]
  },
  {
   "cell_type": "code",
   "execution_count": 31,
   "id": "e1358fb4-e2da-4286-9f21-37e2605f4f1f",
   "metadata": {},
   "outputs": [],
   "source": [
    "df['lemmatized_combined_text']=df['combined_text'].apply(tokenize_and_lemmatize)"
   ]
  },
  {
   "cell_type": "code",
   "execution_count": 32,
   "id": "aa0c1bdf-bb88-46ce-bcbf-a31c3d66e642",
   "metadata": {},
   "outputs": [
    {
     "name": "stdout",
     "output_type": "stream",
     "text": [
      "0    [4, million, american, roll, sleeve, omicronta...\n",
      "1    [american, airline, flyer, charged, banned, li...\n",
      "2    [23, funniest, tweet, cat, dog, week, sept, 17...\n",
      "3    [funniest, tweet, parent, week, sept, 1723, ac...\n",
      "4    [woman, called, cop, black, birdwatcher, loses...\n",
      "Name: lemmatized_combined_text, dtype: object\n"
     ]
    }
   ],
   "source": [
    "print(df['lemmatized_combined_text'].head())"
   ]
  },
  {
   "cell_type": "code",
   "execution_count": 35,
   "id": "1adf4293-3215-4057-84d3-676af8545bd5",
   "metadata": {},
   "outputs": [
    {
     "name": "stdout",
     "output_type": "stream",
     "text": [
      "<class 'pandas.core.frame.DataFrame'>\n",
      "RangeIndex: 209527 entries, 0 to 209526\n",
      "Data columns (total 8 columns):\n",
      " #   Column                    Non-Null Count   Dtype         \n",
      "---  ------                    --------------   -----         \n",
      " 0   link                      209527 non-null  object        \n",
      " 1   headline                  209527 non-null  object        \n",
      " 2   category                  209527 non-null  object        \n",
      " 3   short_description         209527 non-null  object        \n",
      " 4   authors                   209527 non-null  object        \n",
      " 5   date                      209527 non-null  datetime64[ns]\n",
      " 6   combined_text             209527 non-null  object        \n",
      " 7   lemmatized_combined_text  209527 non-null  object        \n",
      "dtypes: datetime64[ns](1), object(7)\n",
      "memory usage: 12.8+ MB\n",
      "None\n"
     ]
    }
   ],
   "source": [
    "print(df.info())"
   ]
  },
  {
   "cell_type": "code",
   "execution_count": null,
   "id": "b6461883-1f4f-4501-8a69-55db26d69ff8",
   "metadata": {},
   "outputs": [],
   "source": []
  }
 ],
 "metadata": {
  "kernelspec": {
   "display_name": "Python 3 (ipykernel)",
   "language": "python",
   "name": "python3"
  },
  "language_info": {
   "codemirror_mode": {
    "name": "ipython",
    "version": 3
   },
   "file_extension": ".py",
   "mimetype": "text/x-python",
   "name": "python",
   "nbconvert_exporter": "python",
   "pygments_lexer": "ipython3",
   "version": "3.11.9"
  }
 },
 "nbformat": 4,
 "nbformat_minor": 5
}
